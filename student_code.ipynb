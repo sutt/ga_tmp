{
 "cells": [
  {
   "cell_type": "markdown",
   "metadata": {},
   "source": [
    "### Student1"
   ]
  },
  {
   "cell_type": "code",
   "execution_count": 43,
   "metadata": {
    "collapsed": true
   },
   "outputs": [],
   "source": [
    "'''\n",
    "ContractType NaN could be valuable as a predictor. \n",
    "With single variable regression as you have now, this will actually work.\n",
    "But you'll want to add it as a to have it's own separate dummy-variable so\n",
    "it can be distinguished from other variable's NaN records, when you move\n",
    "to multi-var regression.\n",
    "\n",
    "There are multiple import problems where you're not importing the function \n",
    "from the correct sklearn module.\n",
    "[Maybe these are sklearn api changes since quiz was developed?]\n",
    "\n",
    "Loading the dataset a `d` is too ambiguous a name, and doesn't match your\n",
    "code further along the script.\n",
    "Did you forget a transform step where d -> data? \n",
    "Even then, use: data_raw -> data as variable names\n",
    "\n",
    "you're variables aren't x1 and x2 but y and x1. it works, but it's confusing.\n",
    "\n",
    "you need to change the `cv` argument in cross_val_score; if there's only\n",
    "one fold on the dataset, we can't compare fit/test between folds.\n",
    "\n",
    "mean_absolute_error is not accepted as metric for cross validation function.\n",
    "try using `neg_mean_absolute_error` and see the user-guide section on \n",
    "\"scroing-parameter\" for why. mse is a more typical param for regression.\n",
    "I'd like to see the variance the cv scores.std() too.\n",
    "'''; pass"
   ]
  },
  {
   "cell_type": "code",
   "execution_count": 36,
   "metadata": {},
   "outputs": [
    {
     "name": "stdout",
     "output_type": "stream",
     "text": [
      "11822.14023129507\n",
      "825.915536670299\n"
     ]
    }
   ],
   "source": [
    "import pandas as pd\n",
    "import numpy as np\n",
    "from sklearn.linear_model import LinearRegression\n",
    "from sklearn.model_selection import cross_val_score\n",
    "# from sklearn.model_selection import train_test_split\n",
    "\n",
    "# Load data\n",
    "# d = pd.read_csv('../data/train.csv')\n",
    "data = pd.read_csv('train.csv')\n",
    "\n",
    "\n",
    "# Setup data for prediction\n",
    "y = data.SalaryNormalized\n",
    "x1 = pd.get_dummies(data.ContractType)\n",
    "\n",
    "# Setup model\n",
    "model = LinearRegression()\n",
    "\n",
    "# Evaluate model\n",
    "scores = cross_val_score(model,x1, y, cv=5,   \n",
    "                         scoring='neg_mean_absolute_error')\n",
    "print(-scores.mean())\n",
    "print(scores.std())"
   ]
  },
  {
   "cell_type": "markdown",
   "metadata": {},
   "source": [
    "### Student2"
   ]
  },
  {
   "cell_type": "code",
   "execution_count": 44,
   "metadata": {},
   "outputs": [],
   "source": [
    "'''\n",
    "This appears almost identical to Student1, so I'd say the same things.\n",
    "\n",
    "But, this student appears to have made *not* made drastic errors like naming\n",
    "y as x1 or creating 1-fold in his cross validation. So for this student I'd \n",
    "concentrate on explaining the advanced concepts like NaN as \n",
    "dummy variable and  why the scoring parameter argument is different. \n",
    "Also I'd probably want to reverse  the sign on neg_mae when \n",
    "printing out / \"reporting it\".\n",
    "\n",
    "So rethinking this exercise, now having seen both students work: I'd \n",
    "emphasize conceptual basics and getting his script to run error free for \n",
    "Student1 and for Student2, I'd concentrate on expanding his understanding\n",
    "of sklearn api, and start pointing him towards next steps.\n",
    "\n",
    "'''; pass"
   ]
  },
  {
   "cell_type": "code",
   "execution_count": 40,
   "metadata": {},
   "outputs": [
    {
     "name": "stdout",
     "output_type": "stream",
     "text": [
      "11822.14023129507\n"
     ]
    }
   ],
   "source": [
    "import pandas as pd\n",
    "import numpy as np\n",
    "from sklearn.linear_model import LinearRegression\n",
    "# from sklearn.cross_validation import cross_val_score\n",
    "from sklearn.model_selection import cross_val_score\n",
    "\n",
    "# Load data\n",
    "data = pd.read_csv('train.csv')\n",
    "\n",
    "\n",
    "# Setup data for prediction\n",
    "y = data.SalaryNormalized\n",
    "X = pd.get_dummies(data.ContractType)\n",
    "\n",
    "# Setup model\n",
    "model = LinearRegression()\n",
    "\n",
    "# Evaluate model\n",
    "scores = cross_val_score(model, X, y, cv=5, scoring='neg_mean_absolute_error')\n",
    "print(-scores.mean())"
   ]
  },
  {
   "cell_type": "code",
   "execution_count": null,
   "metadata": {
    "collapsed": true
   },
   "outputs": [],
   "source": []
  },
  {
   "cell_type": "code",
   "execution_count": null,
   "metadata": {
    "collapsed": true
   },
   "outputs": [],
   "source": []
  },
  {
   "cell_type": "code",
   "execution_count": null,
   "metadata": {
    "collapsed": true
   },
   "outputs": [],
   "source": []
  }
 ],
 "metadata": {
  "kernelspec": {
   "display_name": "Python 3",
   "language": "python",
   "name": "python3"
  },
  "language_info": {
   "codemirror_mode": {
    "name": "ipython",
    "version": 3
   },
   "file_extension": ".py",
   "mimetype": "text/x-python",
   "name": "python",
   "nbconvert_exporter": "python",
   "pygments_lexer": "ipython3",
   "version": "3.7.2"
  }
 },
 "nbformat": 4,
 "nbformat_minor": 2
}
