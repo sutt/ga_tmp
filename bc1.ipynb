{
 "cells": [
  {
   "cell_type": "code",
   "execution_count": 1,
   "metadata": {
    "collapsed": true
   },
   "outputs": [],
   "source": [
    "import os, sys\n",
    "import numpy as np\n",
    "import pandas as pd\n",
    "from matplotlib import pyplot as plt"
   ]
  },
  {
   "cell_type": "code",
   "execution_count": 2,
   "metadata": {
    "collapsed": true
   },
   "outputs": [],
   "source": [
    "import sklearn"
   ]
  },
  {
   "cell_type": "markdown",
   "metadata": {},
   "source": [
    "##### Load dataset"
   ]
  },
  {
   "cell_type": "code",
   "execution_count": 3,
   "metadata": {
    "collapsed": true
   },
   "outputs": [],
   "source": [
    "data = pd.read_csv('breast-cancer.csv', header=None)"
   ]
  },
  {
   "cell_type": "code",
   "execution_count": 4,
   "metadata": {
    "collapsed": true
   },
   "outputs": [],
   "source": [
    "with open('field_names.txt', 'r') as f:\n",
    "    lines = f.readlines()\n",
    "    \n",
    "field_names = [e.strip() for e in lines]"
   ]
  },
  {
   "cell_type": "code",
   "execution_count": 5,
   "metadata": {
    "collapsed": true
   },
   "outputs": [],
   "source": [
    "data.columns = field_names"
   ]
  },
  {
   "cell_type": "code",
   "execution_count": 6,
   "metadata": {},
   "outputs": [
    {
     "data": {
      "text/html": [
       "<div>\n",
       "<style scoped>\n",
       "    .dataframe tbody tr th:only-of-type {\n",
       "        vertical-align: middle;\n",
       "    }\n",
       "\n",
       "    .dataframe tbody tr th {\n",
       "        vertical-align: top;\n",
       "    }\n",
       "\n",
       "    .dataframe thead th {\n",
       "        text-align: right;\n",
       "    }\n",
       "</style>\n",
       "<table border=\"1\" class=\"dataframe\">\n",
       "  <thead>\n",
       "    <tr style=\"text-align: right;\">\n",
       "      <th></th>\n",
       "      <th>ID</th>\n",
       "      <th>diagnosis</th>\n",
       "      <th>radius_mean</th>\n",
       "      <th>radius_sd_error</th>\n",
       "      <th>radius_worst</th>\n",
       "      <th>texture_mean</th>\n",
       "      <th>texture_sd_error</th>\n",
       "      <th>texture_worst</th>\n",
       "      <th>perimeter_mean</th>\n",
       "      <th>perimeter_sd_error</th>\n",
       "      <th>...</th>\n",
       "      <th>concavity_worst</th>\n",
       "      <th>concave_points_mean</th>\n",
       "      <th>concave_points_sd_error</th>\n",
       "      <th>concave_points_worst</th>\n",
       "      <th>symmetry_mean</th>\n",
       "      <th>symmetry_sd_error</th>\n",
       "      <th>symmetry_worst</th>\n",
       "      <th>fractal_dimension_mean</th>\n",
       "      <th>fractal_dimension_sd_error</th>\n",
       "      <th>fractal_dimension_worst</th>\n",
       "    </tr>\n",
       "  </thead>\n",
       "  <tbody>\n",
       "    <tr>\n",
       "      <th>0</th>\n",
       "      <td>842302</td>\n",
       "      <td>M</td>\n",
       "      <td>17.99</td>\n",
       "      <td>10.38</td>\n",
       "      <td>122.80</td>\n",
       "      <td>1001.0</td>\n",
       "      <td>0.11840</td>\n",
       "      <td>0.27760</td>\n",
       "      <td>0.3001</td>\n",
       "      <td>0.14710</td>\n",
       "      <td>...</td>\n",
       "      <td>25.38</td>\n",
       "      <td>17.33</td>\n",
       "      <td>184.60</td>\n",
       "      <td>2019.0</td>\n",
       "      <td>0.1622</td>\n",
       "      <td>0.6656</td>\n",
       "      <td>0.7119</td>\n",
       "      <td>0.2654</td>\n",
       "      <td>0.4601</td>\n",
       "      <td>0.11890</td>\n",
       "    </tr>\n",
       "    <tr>\n",
       "      <th>1</th>\n",
       "      <td>842517</td>\n",
       "      <td>M</td>\n",
       "      <td>20.57</td>\n",
       "      <td>17.77</td>\n",
       "      <td>132.90</td>\n",
       "      <td>1326.0</td>\n",
       "      <td>0.08474</td>\n",
       "      <td>0.07864</td>\n",
       "      <td>0.0869</td>\n",
       "      <td>0.07017</td>\n",
       "      <td>...</td>\n",
       "      <td>24.99</td>\n",
       "      <td>23.41</td>\n",
       "      <td>158.80</td>\n",
       "      <td>1956.0</td>\n",
       "      <td>0.1238</td>\n",
       "      <td>0.1866</td>\n",
       "      <td>0.2416</td>\n",
       "      <td>0.1860</td>\n",
       "      <td>0.2750</td>\n",
       "      <td>0.08902</td>\n",
       "    </tr>\n",
       "    <tr>\n",
       "      <th>2</th>\n",
       "      <td>84300903</td>\n",
       "      <td>M</td>\n",
       "      <td>19.69</td>\n",
       "      <td>21.25</td>\n",
       "      <td>130.00</td>\n",
       "      <td>1203.0</td>\n",
       "      <td>0.10960</td>\n",
       "      <td>0.15990</td>\n",
       "      <td>0.1974</td>\n",
       "      <td>0.12790</td>\n",
       "      <td>...</td>\n",
       "      <td>23.57</td>\n",
       "      <td>25.53</td>\n",
       "      <td>152.50</td>\n",
       "      <td>1709.0</td>\n",
       "      <td>0.1444</td>\n",
       "      <td>0.4245</td>\n",
       "      <td>0.4504</td>\n",
       "      <td>0.2430</td>\n",
       "      <td>0.3613</td>\n",
       "      <td>0.08758</td>\n",
       "    </tr>\n",
       "    <tr>\n",
       "      <th>3</th>\n",
       "      <td>84348301</td>\n",
       "      <td>M</td>\n",
       "      <td>11.42</td>\n",
       "      <td>20.38</td>\n",
       "      <td>77.58</td>\n",
       "      <td>386.1</td>\n",
       "      <td>0.14250</td>\n",
       "      <td>0.28390</td>\n",
       "      <td>0.2414</td>\n",
       "      <td>0.10520</td>\n",
       "      <td>...</td>\n",
       "      <td>14.91</td>\n",
       "      <td>26.50</td>\n",
       "      <td>98.87</td>\n",
       "      <td>567.7</td>\n",
       "      <td>0.2098</td>\n",
       "      <td>0.8663</td>\n",
       "      <td>0.6869</td>\n",
       "      <td>0.2575</td>\n",
       "      <td>0.6638</td>\n",
       "      <td>0.17300</td>\n",
       "    </tr>\n",
       "    <tr>\n",
       "      <th>4</th>\n",
       "      <td>84358402</td>\n",
       "      <td>M</td>\n",
       "      <td>20.29</td>\n",
       "      <td>14.34</td>\n",
       "      <td>135.10</td>\n",
       "      <td>1297.0</td>\n",
       "      <td>0.10030</td>\n",
       "      <td>0.13280</td>\n",
       "      <td>0.1980</td>\n",
       "      <td>0.10430</td>\n",
       "      <td>...</td>\n",
       "      <td>22.54</td>\n",
       "      <td>16.67</td>\n",
       "      <td>152.20</td>\n",
       "      <td>1575.0</td>\n",
       "      <td>0.1374</td>\n",
       "      <td>0.2050</td>\n",
       "      <td>0.4000</td>\n",
       "      <td>0.1625</td>\n",
       "      <td>0.2364</td>\n",
       "      <td>0.07678</td>\n",
       "    </tr>\n",
       "  </tbody>\n",
       "</table>\n",
       "<p>5 rows × 32 columns</p>\n",
       "</div>"
      ],
      "text/plain": [
       "         ID diagnosis  radius_mean  radius_sd_error  radius_worst  \\\n",
       "0    842302         M        17.99            10.38        122.80   \n",
       "1    842517         M        20.57            17.77        132.90   \n",
       "2  84300903         M        19.69            21.25        130.00   \n",
       "3  84348301         M        11.42            20.38         77.58   \n",
       "4  84358402         M        20.29            14.34        135.10   \n",
       "\n",
       "   texture_mean  texture_sd_error  texture_worst  perimeter_mean  \\\n",
       "0        1001.0           0.11840        0.27760          0.3001   \n",
       "1        1326.0           0.08474        0.07864          0.0869   \n",
       "2        1203.0           0.10960        0.15990          0.1974   \n",
       "3         386.1           0.14250        0.28390          0.2414   \n",
       "4        1297.0           0.10030        0.13280          0.1980   \n",
       "\n",
       "   perimeter_sd_error  ...  concavity_worst  concave_points_mean  \\\n",
       "0             0.14710  ...            25.38                17.33   \n",
       "1             0.07017  ...            24.99                23.41   \n",
       "2             0.12790  ...            23.57                25.53   \n",
       "3             0.10520  ...            14.91                26.50   \n",
       "4             0.10430  ...            22.54                16.67   \n",
       "\n",
       "   concave_points_sd_error  concave_points_worst  symmetry_mean  \\\n",
       "0                   184.60                2019.0         0.1622   \n",
       "1                   158.80                1956.0         0.1238   \n",
       "2                   152.50                1709.0         0.1444   \n",
       "3                    98.87                 567.7         0.2098   \n",
       "4                   152.20                1575.0         0.1374   \n",
       "\n",
       "   symmetry_sd_error  symmetry_worst  fractal_dimension_mean  \\\n",
       "0             0.6656          0.7119                  0.2654   \n",
       "1             0.1866          0.2416                  0.1860   \n",
       "2             0.4245          0.4504                  0.2430   \n",
       "3             0.8663          0.6869                  0.2575   \n",
       "4             0.2050          0.4000                  0.1625   \n",
       "\n",
       "   fractal_dimension_sd_error  fractal_dimension_worst  \n",
       "0                      0.4601                  0.11890  \n",
       "1                      0.2750                  0.08902  \n",
       "2                      0.3613                  0.08758  \n",
       "3                      0.6638                  0.17300  \n",
       "4                      0.2364                  0.07678  \n",
       "\n",
       "[5 rows x 32 columns]"
      ]
     },
     "execution_count": 6,
     "metadata": {},
     "output_type": "execute_result"
    }
   ],
   "source": [
    "data.head()"
   ]
  },
  {
   "cell_type": "code",
   "execution_count": 7,
   "metadata": {
    "collapsed": true
   },
   "outputs": [],
   "source": [
    "# the data does not have any n/a values, if it did we'd want to either:\n",
    "# - fill those values, with say the mean of the column\n",
    "# - throws those records away before proceeding to modelling\n",
    "assert not(data.isnull().any().any())\n",
    "assert not(data.isna().any().any())"
   ]
  },
  {
   "cell_type": "markdown",
   "metadata": {},
   "source": [
    "The main step after n/a substitution/encoding is to normalize the X variables so they they have equal mean and variance. "
   ]
  },
  {
   "cell_type": "markdown",
   "metadata": {},
   "source": [
    "##### Compare mean for `smoothness` and `compactness` b/w malig and benin"
   ]
  },
  {
   "cell_type": "code",
   "execution_count": 8,
   "metadata": {
    "collapsed": true
   },
   "outputs": [],
   "source": [
    "malig_smooth = data[(data['diagnosis'] == 'M')]['smoothness_mean']\n",
    "benin_smooth = data[(data['diagnosis'] == 'B')]['smoothness_mean']"
   ]
  },
  {
   "cell_type": "code",
   "execution_count": 9,
   "metadata": {},
   "outputs": [
    {
     "data": {
      "text/plain": [
       "(4.323929245283021, 2.0003212885154085)"
      ]
     },
     "execution_count": 9,
     "metadata": {},
     "output_type": "execute_result"
    }
   ],
   "source": [
    "mean_malig_smooth = np.mean(malig_smooth)\n",
    "mean_benin_smooth = np.mean(benin_smooth)\n",
    "\n",
    "mean_malig_smooth, mean_benin_smooth"
   ]
  },
  {
   "cell_type": "code",
   "execution_count": 10,
   "metadata": {},
   "outputs": [
    {
     "data": {
      "text/plain": [
       "(3.6795, 1.851)"
      ]
     },
     "execution_count": 10,
     "metadata": {},
     "output_type": "execute_result"
    }
   ],
   "source": [
    "median_malig_smooth = np.median(malig_smooth)\n",
    "median_benin_smooth = np.median(benin_smooth)\n",
    "\n",
    "median_malig_smooth, median_benin_smooth"
   ]
  },
  {
   "cell_type": "code",
   "execution_count": 11,
   "metadata": {},
   "outputs": [
    {
     "data": {
      "text/plain": [
       "13.202926294854086"
      ]
     },
     "execution_count": 11,
     "metadata": {},
     "output_type": "execute_result"
    }
   ],
   "source": [
    "sd_smooth = np.std(malig_smooth)\n",
    "\n",
    "z_smooth = ( \n",
    "      (mean_malig_smooth - mean_benin_smooth) \n",
    "       / \n",
    "      (sd_smooth / np.sqrt(len(malig_smooth)))\n",
    "     )\n",
    "\n",
    "z_smooth"
   ]
  },
  {
   "cell_type": "code",
   "execution_count": 12,
   "metadata": {},
   "outputs": [
    {
     "data": {
      "image/png": "[encoded data removed]",
      "text/plain": [
       "<Figure size 432x288 with 1 Axes>"
      ]
     },
     "metadata": {
      "needs_background": "light"
     },
     "output_type": "display_data"
    }
   ],
   "source": [
    "label = ['malig', 'benin']\n",
    "_ = plt.hist([malig_smooth, benin_smooth], bins=20)\n",
    "_ = plt.legend(label)"
   ]
  },
  {
   "cell_type": "markdown",
   "metadata": {},
   "source": [
    "The `Benign-Smoothness` mean differs from the `Malignant-Smoothness` with Z-Score of 13+, meaning p-value far below 1e-3, meaning it is quite statistically significant that the two samples come from different distributions. \n",
    "\n",
    "We can also see the difference in the right tail between the two distributions graphically: `Malignant` has much fatter tail. \n",
    "\n",
    "These look like log-normal distirbutions, let's apply a log-transform to the `Smoothness` variable and see a close to normal distribution:"
   ]
  },
  {
   "cell_type": "code",
   "execution_count": 13,
   "metadata": {},
   "outputs": [
    {
     "data": {
      "image/png": "[encoded data removed]",
      "text/plain": [
       "<Figure size 432x288 with 1 Axes>"
      ]
     },
     "metadata": {
      "needs_background": "light"
     },
     "output_type": "display_data"
    }
   ],
   "source": [
    "log_malig_smooth = np.log(malig_smooth)\n",
    "log_benin_smooth = np.log(benin_smooth)\n",
    "\n",
    "label = ['malig', 'benin']\n",
    "_ = plt.hist([log_malig_smooth, log_benin_smooth], bins=20)\n",
    "_ = plt.legend(label, title='log transform')"
   ]
  },
  {
   "cell_type": "markdown",
   "metadata": {},
   "source": [
    "##### Build a bootstrap function"
   ]
  },
  {
   "cell_type": "code",
   "execution_count": 14,
   "metadata": {
    "collapsed": true
   },
   "outputs": [],
   "source": [
    "def bootstrap(data,pct_sampled=0.1, num_samples=None, seed=None):\n",
    "    '''\n",
    "        return: an index on `data` (list of int's) for a bootstrap sample\n",
    "        input:\n",
    "          data -        (pd.DataFrame)\n",
    "          pct_sampled - (float or None) return pct\n",
    "          num_samples - (int or None)   return len num_samples\n",
    "          seed -        (int or None)   seed that int before rand operation\n",
    "    '''\n",
    "    \n",
    "    assert pct_sampled is not None or num_samples is not None, \\\n",
    "           'must have a value for pct_sampled or num_samples '\n",
    "    \n",
    "    if seed is not None and isinstance(seed, int):\n",
    "        np.random.seed(seed)\n",
    "        \n",
    "    n = len(data)\n",
    "    \n",
    "    ret_obs = ( int(pct_sampled * n) \n",
    "                if pct_sampled is not None else\n",
    "                num_samples\n",
    "              )\n",
    "    \n",
    "    return [np.random.randint(low=0, high=n-1) \n",
    "            for _ in range(ret_obs)\n",
    "           ]\n",
    "    "
   ]
  },
  {
   "cell_type": "code",
   "execution_count": 15,
   "metadata": {},
   "outputs": [
    {
     "name": "stdout",
     "output_type": "stream",
     "text": [
      "indexes             |  sample size\n",
      "('[559, 192, 359]...', 56)\n",
      "('[47, 131, 180]...', 113)\n",
      "('[73, 297, 394]...', 200)\n"
     ]
    }
   ],
   "source": [
    "sample1 = bootstrap(data, pct_sampled=0.1, seed=0)\n",
    "\n",
    "sample2 = bootstrap(data, pct_sampled=0.2)\n",
    "\n",
    "sample3 = bootstrap(data, pct_sampled=None, num_samples=200)\n",
    "\n",
    "print('indexes             |  sample size')\n",
    "print( *[(str(e[:3]) + '...', len(e)) for e in [sample1, sample2, sample3]]\n",
    "       ,sep='\\n')"
   ]
  },
  {
   "cell_type": "code",
   "execution_count": 16,
   "metadata": {},
   "outputs": [
    {
     "data": {
      "text/html": [
       "<div>\n",
       "<style scoped>\n",
       "    .dataframe tbody tr th:only-of-type {\n",
       "        vertical-align: middle;\n",
       "    }\n",
       "\n",
       "    .dataframe tbody tr th {\n",
       "        vertical-align: top;\n",
       "    }\n",
       "\n",
       "    .dataframe thead th {\n",
       "        text-align: right;\n",
       "    }\n",
       "</style>\n",
       "<table border=\"1\" class=\"dataframe\">\n",
       "  <thead>\n",
       "    <tr style=\"text-align: right;\">\n",
       "      <th></th>\n",
       "      <th>ID</th>\n",
       "      <th>diagnosis</th>\n",
       "      <th>radius_mean</th>\n",
       "      <th>radius_sd_error</th>\n",
       "      <th>radius_worst</th>\n",
       "      <th>texture_mean</th>\n",
       "      <th>texture_sd_error</th>\n",
       "      <th>texture_worst</th>\n",
       "      <th>perimeter_mean</th>\n",
       "      <th>perimeter_sd_error</th>\n",
       "      <th>...</th>\n",
       "      <th>concavity_worst</th>\n",
       "      <th>concave_points_mean</th>\n",
       "      <th>concave_points_sd_error</th>\n",
       "      <th>concave_points_worst</th>\n",
       "      <th>symmetry_mean</th>\n",
       "      <th>symmetry_sd_error</th>\n",
       "      <th>symmetry_worst</th>\n",
       "      <th>fractal_dimension_mean</th>\n",
       "      <th>fractal_dimension_sd_error</th>\n",
       "      <th>fractal_dimension_worst</th>\n",
       "    </tr>\n",
       "  </thead>\n",
       "  <tbody>\n",
       "    <tr>\n",
       "      <th>9</th>\n",
       "      <td>84501001</td>\n",
       "      <td>M</td>\n",
       "      <td>12.46</td>\n",
       "      <td>24.04</td>\n",
       "      <td>83.97</td>\n",
       "      <td>475.9</td>\n",
       "      <td>0.11860</td>\n",
       "      <td>0.2396</td>\n",
       "      <td>0.2273</td>\n",
       "      <td>0.08543</td>\n",
       "      <td>...</td>\n",
       "      <td>15.09</td>\n",
       "      <td>40.68</td>\n",
       "      <td>97.65</td>\n",
       "      <td>711.4</td>\n",
       "      <td>0.1853</td>\n",
       "      <td>1.0580</td>\n",
       "      <td>1.1050</td>\n",
       "      <td>0.2210</td>\n",
       "      <td>0.4366</td>\n",
       "      <td>0.20750</td>\n",
       "    </tr>\n",
       "    <tr>\n",
       "      <th>28</th>\n",
       "      <td>852973</td>\n",
       "      <td>M</td>\n",
       "      <td>15.30</td>\n",
       "      <td>25.27</td>\n",
       "      <td>102.40</td>\n",
       "      <td>732.4</td>\n",
       "      <td>0.10820</td>\n",
       "      <td>0.1697</td>\n",
       "      <td>0.1683</td>\n",
       "      <td>0.08751</td>\n",
       "      <td>...</td>\n",
       "      <td>20.27</td>\n",
       "      <td>36.71</td>\n",
       "      <td>149.30</td>\n",
       "      <td>1269.0</td>\n",
       "      <td>0.1641</td>\n",
       "      <td>0.6110</td>\n",
       "      <td>0.6335</td>\n",
       "      <td>0.2024</td>\n",
       "      <td>0.4027</td>\n",
       "      <td>0.09876</td>\n",
       "    </tr>\n",
       "    <tr>\n",
       "      <th>42</th>\n",
       "      <td>855625</td>\n",
       "      <td>M</td>\n",
       "      <td>19.07</td>\n",
       "      <td>24.81</td>\n",
       "      <td>128.30</td>\n",
       "      <td>1104.0</td>\n",
       "      <td>0.09081</td>\n",
       "      <td>0.2190</td>\n",
       "      <td>0.2107</td>\n",
       "      <td>0.09961</td>\n",
       "      <td>...</td>\n",
       "      <td>24.09</td>\n",
       "      <td>33.17</td>\n",
       "      <td>177.40</td>\n",
       "      <td>1651.0</td>\n",
       "      <td>0.1247</td>\n",
       "      <td>0.7444</td>\n",
       "      <td>0.7242</td>\n",
       "      <td>0.2493</td>\n",
       "      <td>0.4670</td>\n",
       "      <td>0.10380</td>\n",
       "    </tr>\n",
       "    <tr>\n",
       "      <th>53</th>\n",
       "      <td>857392</td>\n",
       "      <td>M</td>\n",
       "      <td>18.22</td>\n",
       "      <td>18.70</td>\n",
       "      <td>120.30</td>\n",
       "      <td>1033.0</td>\n",
       "      <td>0.11480</td>\n",
       "      <td>0.1485</td>\n",
       "      <td>0.1772</td>\n",
       "      <td>0.10600</td>\n",
       "      <td>...</td>\n",
       "      <td>20.60</td>\n",
       "      <td>24.13</td>\n",
       "      <td>135.10</td>\n",
       "      <td>1321.0</td>\n",
       "      <td>0.1280</td>\n",
       "      <td>0.2297</td>\n",
       "      <td>0.2623</td>\n",
       "      <td>0.1325</td>\n",
       "      <td>0.3021</td>\n",
       "      <td>0.07987</td>\n",
       "    </tr>\n",
       "    <tr>\n",
       "      <th>57</th>\n",
       "      <td>857793</td>\n",
       "      <td>M</td>\n",
       "      <td>14.71</td>\n",
       "      <td>21.59</td>\n",
       "      <td>95.55</td>\n",
       "      <td>656.9</td>\n",
       "      <td>0.11370</td>\n",
       "      <td>0.1365</td>\n",
       "      <td>0.1293</td>\n",
       "      <td>0.08123</td>\n",
       "      <td>...</td>\n",
       "      <td>17.87</td>\n",
       "      <td>30.70</td>\n",
       "      <td>115.70</td>\n",
       "      <td>985.5</td>\n",
       "      <td>0.1368</td>\n",
       "      <td>0.4290</td>\n",
       "      <td>0.3587</td>\n",
       "      <td>0.1834</td>\n",
       "      <td>0.3698</td>\n",
       "      <td>0.10940</td>\n",
       "    </tr>\n",
       "  </tbody>\n",
       "</table>\n",
       "<p>5 rows × 32 columns</p>\n",
       "</div>"
      ],
      "text/plain": [
       "          ID diagnosis  radius_mean  radius_sd_error  radius_worst  \\\n",
       "9   84501001         M        12.46            24.04         83.97   \n",
       "28    852973         M        15.30            25.27        102.40   \n",
       "42    855625         M        19.07            24.81        128.30   \n",
       "53    857392         M        18.22            18.70        120.30   \n",
       "57    857793         M        14.71            21.59         95.55   \n",
       "\n",
       "    texture_mean  texture_sd_error  texture_worst  perimeter_mean  \\\n",
       "9          475.9           0.11860         0.2396          0.2273   \n",
       "28         732.4           0.10820         0.1697          0.1683   \n",
       "42        1104.0           0.09081         0.2190          0.2107   \n",
       "53        1033.0           0.11480         0.1485          0.1772   \n",
       "57         656.9           0.11370         0.1365          0.1293   \n",
       "\n",
       "    perimeter_sd_error  ...  concavity_worst  concave_points_mean  \\\n",
       "9              0.08543  ...            15.09                40.68   \n",
       "28             0.08751  ...            20.27                36.71   \n",
       "42             0.09961  ...            24.09                33.17   \n",
       "53             0.10600  ...            20.60                24.13   \n",
       "57             0.08123  ...            17.87                30.70   \n",
       "\n",
       "    concave_points_sd_error  concave_points_worst  symmetry_mean  \\\n",
       "9                     97.65                 711.4         0.1853   \n",
       "28                   149.30                1269.0         0.1641   \n",
       "42                   177.40                1651.0         0.1247   \n",
       "53                   135.10                1321.0         0.1280   \n",
       "57                   115.70                 985.5         0.1368   \n",
       "\n",
       "    symmetry_sd_error  symmetry_worst  fractal_dimension_mean  \\\n",
       "9              1.0580          1.1050                  0.2210   \n",
       "28             0.6110          0.6335                  0.2024   \n",
       "42             0.7444          0.7242                  0.2493   \n",
       "53             0.2297          0.2623                  0.1325   \n",
       "57             0.4290          0.3587                  0.1834   \n",
       "\n",
       "    fractal_dimension_sd_error  fractal_dimension_worst  \n",
       "9                       0.4366                  0.20750  \n",
       "28                      0.4027                  0.09876  \n",
       "42                      0.4670                  0.10380  \n",
       "53                      0.3021                  0.07987  \n",
       "57                      0.3698                  0.10940  \n",
       "\n",
       "[5 rows x 32 columns]"
      ]
     },
     "execution_count": 16,
     "metadata": {},
     "output_type": "execute_result"
    }
   ],
   "source": [
    "sample1_ind = pd.Series([e in sample1 for e in data.index.tolist()])\n",
    "sample1_data = data[sample1_ind]\n",
    "sample1_data.head()"
   ]
  },
  {
   "cell_type": "markdown",
   "metadata": {
    "collapsed": true
   },
   "source": [
    "##### Exploratory Analysis"
   ]
  },
  {
   "cell_type": "code",
   "execution_count": 17,
   "metadata": {},
   "outputs": [
    {
     "data": {
      "image/png": "[encoded data removed]",
      "text/plain": [
       "<Figure size 432x288 with 1 Axes>"
      ]
     },
     "metadata": {
      "needs_background": "light"
     },
     "output_type": "display_data"
    },
    {
     "data": {
      "image/png": "[encoded data removed]",
      "text/plain": [
       "<Figure size 432x288 with 1 Axes>"
      ]
     },
     "metadata": {
      "needs_background": "light"
     },
     "output_type": "display_data"
    },
    {
     "data": {
      "image/png": "[encoded data removed]",
      "text/plain": [
       "<Figure size 432x288 with 1 Axes>"
      ]
     },
     "metadata": {
      "needs_background": "light"
     },
     "output_type": "display_data"
    }
   ],
   "source": [
    "def plot_field(field_name):\n",
    "    \n",
    "    malig_x = data[(data['diagnosis'] == 'M')][field_name]\n",
    "    benin_x = data[(data['diagnosis'] == 'B')][field_name]\n",
    "\n",
    "    _ = plt.scatter(malig_x, [1 for _ in range(len(malig_x))])\n",
    "    _ = plt.scatter(benin_x, [0 for _ in range(len(benin_x))])\n",
    "    _= plt.legend(['malignant', 'benign'])\n",
    "    _ = plt.title(field_name)\n",
    "    plt.show()\n",
    "    \n",
    "plot_field('smoothness_mean')\n",
    "plot_field('radius_mean')\n",
    "plot_field('concavity_worst')"
   ]
  },
  {
   "cell_type": "markdown",
   "metadata": {},
   "source": [
    "We can see there are large intervals at the min/max tails of `radius_mean` and `concavity_worst`, where these variables are perfect predictors of diagnosis: there are no malignant cases with radius < 10 and no benign cases with radius > 20. But a large portion of the data is distributed in the middle, e..g 12 to 17 for radius_mean, where radius can not predict diagnosis by itself. It looks like the naive view, \"Very Big is Very Bad\" is a subset of the dataset, for the rest we'll need multi-variable tools."
   ]
  },
  {
   "cell_type": "markdown",
   "metadata": {},
   "source": [
    "##### Prepare Dataset for Modelling"
   ]
  },
  {
   "cell_type": "code",
   "execution_count": 22,
   "metadata": {
    "collapsed": true
   },
   "outputs": [],
   "source": [
    "pct_test = 0.2\n",
    "test_ind = int(pct_test * len(data))\n",
    "\n",
    "data_train = data[test_ind:]\n",
    "data_test  = data[:test_ind]"
   ]
  },
  {
   "cell_type": "code",
   "execution_count": 23,
   "metadata": {
    "collapsed": true
   },
   "outputs": [],
   "source": [
    "x_fields = [e for e in data.columns if e not in ('ID', 'diagnosis')]\n",
    "y_fields = ['diagnosis']\n",
    "y_fields = 'diagnosis'\n",
    "\n",
    "train_x = data_train[x_fields]\n",
    "train_y = data_train[y_fields]\n",
    "\n",
    "test_x = data_test[x_fields]\n",
    "test_y = data_test[y_fields]"
   ]
  },
  {
   "cell_type": "code",
   "execution_count": 24,
   "metadata": {},
   "outputs": [
    {
     "data": {
      "text/plain": [
       "((456, 30), (456,))"
      ]
     },
     "execution_count": 24,
     "metadata": {},
     "output_type": "execute_result"
    }
   ],
   "source": [
    "train_x.shape, train_y.shape"
   ]
  },
  {
   "cell_type": "code",
   "execution_count": 25,
   "metadata": {},
   "outputs": [
    {
     "data": {
      "text/plain": [
       "((113, 30), (113,))"
      ]
     },
     "execution_count": 25,
     "metadata": {},
     "output_type": "execute_result"
    }
   ],
   "source": [
    "test_x.shape, test_y.shape"
   ]
  },
  {
   "cell_type": "markdown",
   "metadata": {},
   "source": [
    "##### Build Classifiers"
   ]
  },
  {
   "cell_type": "code",
   "execution_count": 26,
   "metadata": {
    "collapsed": true
   },
   "outputs": [],
   "source": [
    "from sklearn.ensemble import RandomForestClassifier"
   ]
  },
  {
   "cell_type": "code",
   "execution_count": 27,
   "metadata": {
    "collapsed": true
   },
   "outputs": [],
   "source": [
    "rf = RandomForestClassifier(n_estimators=500, max_depth=6)"
   ]
  },
  {
   "cell_type": "code",
   "execution_count": 28,
   "metadata": {
    "collapsed": true
   },
   "outputs": [],
   "source": [
    "_ = rf.fit(train_x, train_y)"
   ]
  },
  {
   "cell_type": "code",
   "execution_count": 29,
   "metadata": {},
   "outputs": [
    {
     "data": {
      "text/plain": [
       "0.9978070175438597"
      ]
     },
     "execution_count": 29,
     "metadata": {},
     "output_type": "execute_result"
    }
   ],
   "source": [
    "rf.score(train_x, train_y,)"
   ]
  },
  {
   "cell_type": "code",
   "execution_count": 30,
   "metadata": {},
   "outputs": [
    {
     "data": {
      "text/plain": [
       "0.8938053097345132"
      ]
     },
     "execution_count": 30,
     "metadata": {},
     "output_type": "execute_result"
    }
   ],
   "source": [
    "rf.score(test_x, test_y,)"
   ]
  },
  {
   "cell_type": "markdown",
   "metadata": {},
   "source": [
    "##### Consider parameter `max_depth`  and it's effect on overfitting\n",
    "higher max_depth for our trees gives us more predictive power, but also creates the possibility for overfitting. We'll do [1-dimensional] grid search on this paramter and compare the improvement in training performance vs the improvement in test perfromance."
   ]
  },
  {
   "cell_type": "code",
   "execution_count": 31,
   "metadata": {
    "collapsed": true
   },
   "outputs": [],
   "source": [
    "train_scores, test_scores = [], []\n",
    "\n",
    "for md in range(1,15):\n",
    "    \n",
    "    _rf = RandomForestClassifier(n_estimators=500, max_depth=md)\n",
    "    _ = _rf.fit(train_x, train_y)\n",
    "    \n",
    "    train_scores.append(_rf.score(train_x, train_y,))\n",
    "    test_scores.append(_rf.score(test_x, test_y,))"
   ]
  },
  {
   "cell_type": "code",
   "execution_count": 32,
   "metadata": {},
   "outputs": [
    {
     "name": "stdout",
     "output_type": "stream",
     "text": [
      "(0.9452, 0.7876)\n",
      "(0.9715, 0.8761)\n",
      "(0.9781, 0.885)\n",
      "(0.9868, 0.8938)\n",
      "(0.9912, 0.9027)\n",
      "(0.9978, 0.9115)\n",
      "(1.0, 0.9115)\n",
      "(1.0, 0.9115)\n",
      "(1.0, 0.9204)\n",
      "(1.0, 0.9027)\n",
      "(1.0, 0.9115)\n",
      "(1.0, 0.9115)\n",
      "(1.0, 0.9204)\n",
      "(1.0, 0.9204)\n"
     ]
    },
    {
     "data": {
      "image/png": "[encoded data removed]",
      "text/plain": [
       "<Figure size 432x288 with 1 Axes>"
      ]
     },
     "metadata": {
      "needs_background": "light"
     },
     "output_type": "display_data"
    }
   ],
   "source": [
    "x = [e for e in range(1,15)]\n",
    "_ = plt.plot(x, train_scores)\n",
    "_ = plt.plot(x, test_scores)\n",
    "_= plt.legend(['train', 'test'])\n",
    "_= plt.xlabel('max_depth')\n",
    "\n",
    "print( *[(round(a,4),round(b,4)) for a,b in \n",
    "          zip(train_scores, test_scores)], sep='\\n')"
   ]
  },
  {
   "cell_type": "markdown",
   "metadata": {},
   "source": [
    "A max_depth > 7 does not seem to improve perfromance on test sample, while it does steadily improve train towards the ludicrous 0-error perfromance, I'd cap that parameter there."
   ]
  },
  {
   "cell_type": "markdown",
   "metadata": {},
   "source": [
    "##### Logistic Regression"
   ]
  },
  {
   "cell_type": "code",
   "execution_count": 33,
   "metadata": {
    "collapsed": true
   },
   "outputs": [],
   "source": [
    "from sklearn.linear_model import LogisticRegression"
   ]
  },
  {
   "cell_type": "code",
   "execution_count": 34,
   "metadata": {
    "collapsed": true
   },
   "outputs": [],
   "source": [
    "lr = LogisticRegression(penalty='l2', solver='newton-cg')\n",
    "_ = lr.fit(train_x, train_y)"
   ]
  },
  {
   "cell_type": "code",
   "execution_count": 35,
   "metadata": {},
   "outputs": [
    {
     "data": {
      "text/plain": [
       "0.9649122807017544"
      ]
     },
     "execution_count": 35,
     "metadata": {},
     "output_type": "execute_result"
    }
   ],
   "source": [
    "lr.score(train_x, train_y)"
   ]
  },
  {
   "cell_type": "code",
   "execution_count": 36,
   "metadata": {},
   "outputs": [
    {
     "data": {
      "text/plain": [
       "0.911504424778761"
      ]
     },
     "execution_count": 36,
     "metadata": {},
     "output_type": "execute_result"
    }
   ],
   "source": [
    "lr.score(test_x, test_y)"
   ]
  },
  {
   "cell_type": "markdown",
   "metadata": {},
   "source": [
    "##### Analyze Feature Importance"
   ]
  },
  {
   "cell_type": "code",
   "execution_count": 37,
   "metadata": {
    "collapsed": true
   },
   "outputs": [],
   "source": [
    "rf_features = pd.Series(rf.feature_importances_, index=train_x.columns, )"
   ]
  },
  {
   "cell_type": "code",
   "execution_count": 38,
   "metadata": {},
   "outputs": [
    {
     "data": {
      "text/plain": [
       "concave_points_worst       0.142025\n",
       "concavity_worst            0.141479\n",
       "concave_points_sd_error    0.132313\n",
       "fractal_dimension_mean     0.099622\n",
       "radius_worst               0.080235\n",
       "perimeter_sd_error         0.071185\n",
       "dtype: float64"
      ]
     },
     "execution_count": 38,
     "metadata": {},
     "output_type": "execute_result"
    }
   ],
   "source": [
    "rf_top_features = rf_features.sort_values(ascending=False)\n",
    "rf_top_features[:6]"
   ]
  },
  {
   "cell_type": "code",
   "execution_count": 39,
   "metadata": {},
   "outputs": [
    {
     "data": {
      "text/plain": [
       "symmetry_worst                1.175744\n",
       "symmetry_sd_error             0.602197\n",
       "fractal_dimension_sd_error    0.589030\n",
       "radius_mean                  -0.947834\n",
       "area_worst                   -0.741932\n",
       "concavity_worst              -0.638735\n",
       "dtype: float64"
      ]
     },
     "execution_count": 39,
     "metadata": {},
     "output_type": "execute_result"
    }
   ],
   "source": [
    "lr_features = pd.Series(lr.coef_[0], index=train_x.columns, )\n",
    "\n",
    "lr_top_features_pos = lr_features.sort_values(ascending=False, )\n",
    "lr_top_features_neg = lr_features.sort_values(ascending=True, )\n",
    "\n",
    "lr_top_features = lr_top_features_pos[:3]\n",
    "lr_top_features.append(lr_top_features_neg[:3])"
   ]
  },
  {
   "cell_type": "markdown",
   "metadata": {},
   "source": [
    "Many of these features appear to be correlated (\"multi-collinearity\") and this will be difficult for logistic regression to deal with, even with using an L2-regularization. It will also mean that different basis function or even different solvers could find drastically different variable importance (\"Rashomon conclusions\") for roughly equal model importance.\n",
    "\n",
    "Random Forest seem to identify multiple metrics on concavity as of the highest importantance, while logistic regression does not.\n",
    "\n",
    "We see that `concavity_worst` is a variable shared across different Learners as in top6 impact. "
   ]
  },
  {
   "cell_type": "markdown",
   "metadata": {},
   "source": [
    "##### Technichal Interpretation"
   ]
  },
  {
   "cell_type": "markdown",
   "metadata": {
    "collapsed": true
   },
   "source": [
    "These models should be thought of as naive baselines for further modelling. We see a baseline of 94% accuracy on training set (which can be cranked to 100%) and 89-91% on the test set. Two steps to pursue before even bringing in more advanced modelling techniques: 1.) normalize the dataset, and perhaps apply some log transforms to some features to make them distributed more normally. 2.) build more cross validation samples to view how the model fits/tests under different dataset-splits."
   ]
  },
  {
   "cell_type": "markdown",
   "metadata": {},
   "source": [
    "##### Non-Technichal Interpretation"
   ]
  },
  {
   "cell_type": "markdown",
   "metadata": {
    "collapsed": true
   },
   "source": [
    "We used two techniques to identify the factors that predict malignant vs benign tumors using two dozen statistics calculated on images of the cells/tumor.\n",
    "\n",
    "Each of these techniques has roughly 90% accurracy.\n",
    "\n",
    "When exploring the factors individually, like radius, we see a sample at each *extreme* of the distribution are highlypredictive, while there is not a good predictive separation in the *middle* of the distribtuion. For example if all observations have a radius 1-20, and observation with radius 1-3 are very likely benign, and observation with radius 17-20 are very likely malignant. But for a radius of 8-12, we would need more information.\n",
    "\n",
    "So, the real challenge is this situation is not separating the clearly malignant from the clearly benign, but trying to separate the two, when the situations is ambiguous on some factors."
   ]
  },
  {
   "cell_type": "code",
   "execution_count": null,
   "metadata": {
    "collapsed": true
   },
   "outputs": [],
   "source": []
  },
  {
   "cell_type": "code",
   "execution_count": null,
   "metadata": {
    "collapsed": true
   },
   "outputs": [],
   "source": []
  }
 ],
 "metadata": {
  "kernelspec": {
   "display_name": "Python 3",
   "language": "python",
   "name": "python3"
  },
  "language_info": {
   "codemirror_mode": {
    "name": "ipython",
    "version": 3
   },
   "file_extension": ".py",
   "mimetype": "text/x-python",
   "name": "python",
   "nbconvert_exporter": "python",
   "pygments_lexer": "ipython3",
   "version": "3.7.2"
  }
 },
 "nbformat": 4,
 "nbformat_minor": 2
}
